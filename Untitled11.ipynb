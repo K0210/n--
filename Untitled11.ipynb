{
  "nbformat": 4,
  "nbformat_minor": 0,
  "metadata": {
    "colab": {
      "provenance": [],
      "authorship_tag": "ABX9TyO/GuwnZdNVuklf0jBSfvX9",
      "include_colab_link": true
    },
    "kernelspec": {
      "name": "python3",
      "display_name": "Python 3"
    },
    "language_info": {
      "name": "python"
    }
  },
  "cells": [
    {
      "cell_type": "markdown",
      "metadata": {
        "id": "view-in-github",
        "colab_type": "text"
      },
      "source": [
        "<a href=\"https://colab.research.google.com/github/K0210/n--/blob/main/Untitled11.ipynb\" target=\"_parent\"><img src=\"https://colab.research.google.com/assets/colab-badge.svg\" alt=\"Open In Colab\"/></a>"
      ]
    },
    {
      "cell_type": "code",
      "source": [
        "def f(x):\n",
        "  y = 1\n",
        "  if x > 0:\n",
        "    k = x\n",
        "    while k >= 1:\n",
        "      y *= k\n",
        "      k -= 2\n",
        "  elif x < 0 and x % 2 !=0:\n",
        "    k = 1\n",
        "    while k > x:\n",
        "      y = y / k\n",
        "      k = k - 2\n",
        "  elif x != 0:\n",
        "    return print(\"error\")\n",
        "    y = float(\"nan\")\n",
        "  return y"
      ],
      "metadata": {
        "id": "nZUatMjlDWy0"
      },
      "execution_count": null,
      "outputs": []
    }
  ]
}
